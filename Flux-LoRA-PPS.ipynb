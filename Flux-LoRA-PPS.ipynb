{
 "cells": [
  {
   "cell_type": "markdown",
   "id": "b01332d1-1384-4405-8af6-335c768da6e2",
   "metadata": {},
   "source": [
    "## Flux LoRA Trainer by TheLastBen https://github.com/TheLastBen/fast-stable-diffusion, if you encounter any issues, feel free to discuss them.\n",
    "<span style=\"color: yellow;\">In order for the notebook to function correctly, click on the jupyterlab icon on the left panel</span>"
   ]
  },
  {
   "cell_type": "markdown",
   "id": "8f82bb3b-76de-4e2c-9251-df918f8f2cbe",
   "metadata": {},
   "source": [
    "# Dependencies"
   ]
  },
  {
   "cell_type": "code",
   "execution_count": null,
   "id": "3d144e06-1f7a-467b-9cf1-452bf773f0ab",
   "metadata": {
    "tags": []
   },
   "outputs": [],
   "source": [
    "# Install the dependencies\n",
    "\n",
    "force_reinstall= False\n",
    "\n",
    "# Set to true only if you want to install the dependencies again.\n",
    "\n",
    "#--------------------\n",
    "with open('/dev/null', 'w') as devnull:import requests, os, importlib; open('/notebooks/fluxlorapps.py', 'wb').write(requests.get('https://huggingface.co/datasets/TheLastBen/PPS/raw/main/Scripts/fluxlorapps.py').content);os.chdir('/notebooks');import fluxlorapps;importlib.reload(fluxlorapps);from fluxlorapps import *;Deps(force_reinstall); import cv2;MODEL_NAME=\"/notebooks/flux\""
   ]
  },
  {
   "cell_type": "markdown",
   "id": "8e22327b-e0c3-424c-82e1-fb7f8a815c0b",
   "metadata": {},
   "source": [
    "# Create/Load a Session"
   ]
  },
  {
   "cell_type": "code",
   "execution_count": null,
   "id": "ac69c221-205a-40d2-b42e-6c8d515a43cc",
   "metadata": {
    "tags": []
   },
   "outputs": [],
   "source": [
    "Session_Name = \"Example-Session\"\n",
    "\n",
    "HF_Token=\"\"\n",
    "\n",
    "# Enter the session name, it if it exists, it will load it, otherwise it'll create an new session.\n",
    "\n",
    "#-----------------\n",
    "mdlflux(HF_Token);[WORKSPACE, Session_Name, INSTANCE_NAME, OUTPUT_DIR, SESSION_DIR, INSTANCE_DIR, MDLPTH]=sess_flux(Session_Name)"
   ]
  },
  {
   "cell_type": "markdown",
   "id": "eea6975c-c56e-4391-89ec-e71ab23f0789",
   "metadata": {},
   "source": [
    "# Instance Images\n",
    "The most important step is to rename the instance pictures to one unique unknown identifier"
   ]
  },
  {
   "cell_type": "code",
   "execution_count": null,
   "id": "90213561-6117-4a2e-ab48-4988e2d450df",
   "metadata": {
    "tags": []
   },
   "outputs": [],
   "source": [
    "Remove_existing_instance_images= True\n",
    "\n",
    "# Set to False to keep the existing instance images if any.\n",
    "\n",
    "\n",
    "IMAGES_FOLDER_OPTIONAL= \"\"\n",
    "\n",
    "# If you prefer to specify directly the folder of the pictures instead of uploading, this will add the pictures to the existing (if any) instance images. Leave EMPTY to upload.\n",
    "\n",
    "\n",
    "Make_Grid= True\n",
    "\n",
    "# Create a 1024x1024 grids made of 512px images of the dataset, proven to be a good method.\n",
    "\n",
    "\n",
    "Smart_crop_images= False\n",
    "\n",
    "# Disabled when \"Make_Grid\" is set to \"True\"\n",
    "# Automatically crop your input images.\n",
    "\n",
    "\n",
    "Crop_size = 1024\n",
    "\n",
    "# 1024 is the native resolution\n",
    "\n",
    "\n",
    "Resize_to_1024_and_keep_aspect_ratio = False\n",
    "\n",
    "# Disabled when \"Smart_crop_images\" or \"Make_Grid\" are set to \"True\"\n",
    "# Will resize the smallest dimension to 1024 without cropping while keeping the aspect ratio (make sure you have enough VRAM)\n",
    "\n",
    "\n",
    "# Check out this example for naming : https://i.imgur.com/d2lD3rz.jpeg\n",
    "\n",
    "\n",
    "#-----------------\n",
    "uplder(Remove_existing_instance_images, Smart_crop_images, Crop_size, Resize_to_1024_and_keep_aspect_ratio, IMAGES_FOLDER_OPTIONAL, INSTANCE_DIR, Make_Grid)"
   ]
  },
  {
   "cell_type": "markdown",
   "id": "982ea644-8902-4bfa-af9b-191d8e079044",
   "metadata": {},
   "source": [
    "# View Images"
   ]
  },
  {
   "cell_type": "code",
   "execution_count": null,
   "id": "c9df5834-e278-4bc9-8161-c1a5bad5f6da",
   "metadata": {
    "tags": []
   },
   "outputs": [],
   "source": [
    "# Open a tool to manually caption the instance images.\n",
    "\n",
    "#-----------------\n",
    "view_images(INSTANCE_DIR)"
   ]
  },
  {
   "cell_type": "markdown",
   "id": "5d239e77-f7fd-404b-8006-081f15326412",
   "metadata": {},
   "source": [
    "# Train LoRA"
   ]
  },
  {
   "cell_type": "code",
   "execution_count": null,
   "id": "c54a7335-8402-42f2-9a71-9da99f6ea604",
   "metadata": {
    "tags": []
   },
   "outputs": [],
   "source": [
    "# Training Settings\n",
    "\n",
    "UNet_Training_Epochs = 250\n",
    "\n",
    "UNet_Learning_Rate = \"7e-4\"\n",
    "\n",
    "# Keep the learnnig rate between 1e-4 and 7e-4\n",
    "\n",
    "\n",
    "LoRA_Dim = 128 \n",
    "\n",
    "#128 is good enough for all purposes\n",
    "\n",
    "\n",
    "Intermediary_Save_Epoch = \"[200,400]\"\n",
    "\n",
    "# [30,60] means it will save intermediary models at epoch 30 and epoch 60, you can add as many as you want like [30,60,80,100]\n",
    "\n",
    "\n",
    "Save_VRAM = False\n",
    "\n",
    "# Reduce VRAM usage but slower training\n",
    "\n",
    "#-----------------\n",
    "fluxtrain(UNet_Training_Epochs, UNet_Learning_Rate, LoRA_Dim, MODEL_NAME, SESSION_DIR, INSTANCE_DIR, INSTANCE_NAME, Session_Name, OUTPUT_DIR, Save_VRAM, Intermediary_Save_Epoch)"
   ]
  },
  {
   "cell_type": "markdown",
   "id": "200b53f7-9aa4-494c-abe4-934b39bbb7d3",
   "metadata": {
    "tags": []
   },
   "source": [
    "# ComfyUI"
   ]
  },
  {
   "cell_type": "code",
   "execution_count": null,
   "id": "9d6db973-e71a-4d2e-8175-fb4240b86572",
   "metadata": {
    "tags": []
   },
   "outputs": [],
   "source": [
    "Args=\"--listen --port 6006 --fp8_e4m3fn-unet --preview-method auto\"\n",
    "\n",
    "#-------------------- --\n",
    "sdcmf(SESSION_DIR)\n",
    "!python /notebooks/ComfyUI/main.py $Args"
   ]
  },
  {
   "cell_type": "code",
   "execution_count": null,
   "id": "bf901a4a-2170-4085-b321-d9281515d1cb",
   "metadata": {},
   "outputs": [],
   "source": []
  }
 ],
 "metadata": {
  "kernelspec": {
   "display_name": "Python 3 (ipykernel)",
   "language": "python",
   "name": "python3"
  },
  "language_info": {
   "codemirror_mode": {
    "name": "ipython",
    "version": 3
   },
   "file_extension": ".py",
   "mimetype": "text/x-python",
   "name": "python",
   "nbconvert_exporter": "python",
   "pygments_lexer": "ipython3",
   "version": "3.11.7"
  }
 },
 "nbformat": 4,
 "nbformat_minor": 5
}
