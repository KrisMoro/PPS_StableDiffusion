{
 "cells": [
  {
   "cell_type": "markdown",
   "id": "b01332d1-1384-4405-8af6-335c768da6e2",
   "metadata": {},
   "source": [
    "## SDXL LoRA Trainer by TheLastBen https://github.com/TheLastBen/fast-stable-diffusion, if you encounter any issues, feel free to discuss them."
   ]
  },
  {
   "cell_type": "markdown",
   "id": "8f82bb3b-76de-4e2c-9251-df918f8f2cbe",
   "metadata": {},
   "source": [
    "# Dependencies"
   ]
  },
  {
   "cell_type": "code",
   "execution_count": null,
   "id": "3d144e06-1f7a-467b-9cf1-452bf773f0ab",
   "metadata": {
    "tags": []
   },
   "outputs": [],
   "source": [
    "# Install the dependencies\n",
    "\n",
    "force_reinstall= False\n",
    "\n",
    "# Set to true only if you want to install the dependencies again.\n",
    "\n",
    "#--------------------\n",
    "with open('/dev/null', 'w') as devnull:import requests, os, time, importlib;open('/notebooks/sdxllorapps.py', 'wb').write(requests.get('https://huggingface.co/datasets/TheLastBen/PPS/raw/main/Scripts/sdxllorapps.py').content);os.chdir('/notebooks');import sdxllorapps;importlib.reload(sdxllorapps);from sdxllorapps import *;Deps(force_reinstall)"
   ]
  },
  {
   "cell_type": "markdown",
   "id": "461b7686-e4aa-4fa8-ab6f-5a6acbf4c601",
   "metadata": {},
   "source": [
    "# Download the model"
   ]
  },
  {
   "cell_type": "code",
   "execution_count": null,
   "id": "2f705bd1-35c9-49bd-84fd-03a1348cbe83",
   "metadata": {
    "tags": []
   },
   "outputs": [],
   "source": [
    "# Run the cell to download the model\n",
    "\n",
    "#-------------\n",
    "MODEL_NAMExl=dls_xl(\"\", \"\", \"\")"
   ]
  },
  {
   "cell_type": "markdown",
   "id": "8e22327b-e0c3-424c-82e1-fb7f8a815c0b",
   "metadata": {},
   "source": [
    "# Create/Load a Session"
   ]
  },
  {
   "cell_type": "code",
   "execution_count": null,
   "id": "ac69c221-205a-40d2-b42e-6c8d515a43cc",
   "metadata": {
    "tags": []
   },
   "outputs": [],
   "source": [
    "Session_Name = \"Example-Session\"\n",
    "\n",
    "# Enter the session name, it if it exists, it will load it, otherwise it'll create an new session.\n",
    "\n",
    "#-----------------\n",
    "[WORKSPACE, Session_Name, INSTANCE_NAME, OUTPUT_DIR, SESSION_DIR, INSTANCE_DIR, CAPTIONS_DIR, MDLPTH, MODEL_NAMExl]=sess_xl(Session_Name, MODEL_NAMExl if 'MODEL_NAMExl' in locals() else \"\")"
   ]
  },
  {
   "cell_type": "markdown",
   "id": "eea6975c-c56e-4391-89ec-e71ab23f0789",
   "metadata": {},
   "source": [
    "# Instance Images\n",
    "The most important step is to rename the instance pictures to one unique unknown identifier"
   ]
  },
  {
   "cell_type": "code",
   "execution_count": null,
   "id": "90213561-6117-4a2e-ab48-4988e2d450df",
   "metadata": {
    "tags": []
   },
   "outputs": [],
   "source": [
    "Remove_existing_instance_images= True\n",
    "\n",
    "# Set to False to keep the existing instance images if any.\n",
    "\n",
    "\n",
    "IMAGES_FOLDER_OPTIONAL= \"\"\n",
    "\n",
    "# If you prefer to specify directly the folder of the pictures instead of uploading, this will add the pictures to the existing (if any) instance images. Leave EMPTY to upload.\n",
    "\n",
    "\n",
    "Smart_crop_images= True\n",
    "\n",
    "# Automatically crop your input images.\n",
    "\n",
    "\n",
    "Crop_size = 1024\n",
    "\n",
    "# 1024 is the native resolution\n",
    "\n",
    "# Check out this example for naming : https://i.imgur.com/d2lD3rz.jpeg\n",
    "\n",
    "\n",
    "#-----------------\n",
    "uplder(Remove_existing_instance_images, Smart_crop_images, Crop_size, IMAGES_FOLDER_OPTIONAL, INSTANCE_DIR, CAPTIONS_DIR)"
   ]
  },
  {
   "cell_type": "markdown",
   "id": "982ea644-8902-4bfa-af9b-191d8e079044",
   "metadata": {},
   "source": [
    "# Manual Captioning"
   ]
  },
  {
   "cell_type": "code",
   "execution_count": null,
   "id": "c9df5834-e278-4bc9-8161-c1a5bad5f6da",
   "metadata": {
    "tags": []
   },
   "outputs": [],
   "source": [
    "# Open a tool to manually caption the instance images.\n",
    "\n",
    "#-----------------\n",
    "caption(CAPTIONS_DIR, INSTANCE_DIR)"
   ]
  },
  {
   "cell_type": "markdown",
   "id": "5d239e77-f7fd-404b-8006-081f15326412",
   "metadata": {},
   "source": [
    "# Train LoRA"
   ]
  },
  {
   "cell_type": "code",
   "execution_count": null,
   "id": "c54a7335-8402-42f2-9a71-9da99f6ea604",
   "metadata": {
    "tags": []
   },
   "outputs": [],
   "source": [
    "Resume_Training= False\n",
    "\n",
    "# If you're not satisfied with the result, Set to True, run again the cell and it will continue training the current model.\n",
    "\n",
    "\n",
    "Training_Epochs= 50\n",
    "\n",
    "# Epoch = Number of steps/images.\n",
    "\n",
    "Learning_Rate= \"3e-6\"\n",
    "\n",
    "# keep it between 1e-6 and 6e-6\n",
    "\n",
    "\n",
    "External_Captions= False\n",
    "\n",
    "# Load the captions from a text file for each instance image.\n",
    "\n",
    "\n",
    "LoRA_Dim = 128\n",
    "\n",
    "# Dimension of the LoRa model, beteen 64 and 128 is good enough.\n",
    "\n",
    "\n",
    "Resolution= 1024\n",
    "\n",
    "# 1024 is the native resolution.\n",
    "\n",
    "\n",
    "Save_VRAM = False\n",
    "\n",
    "# Use as low as 9.7GB VRAM with Dim = 64, but slightly slower training.\n",
    "\n",
    "#-----------------\n",
    "dbtrainxl(Resume_Training, Training_Epochs, Learning_Rate, LoRA_Dim, False, Resolution, MODEL_NAMExl, SESSION_DIR, INSTANCE_DIR, CAPTIONS_DIR, External_Captions, INSTANCE_NAME, Session_Name, OUTPUT_DIR, 0.03, Save_VRAM)"
   ]
  },
  {
   "cell_type": "markdown",
   "id": "e2751798-508e-47ad-8e54-95188bdab051",
   "metadata": {},
   "source": [
    "# Test the Trained Model"
   ]
  },
  {
   "cell_type": "markdown",
   "id": "abaf3f41",
   "metadata": {},
   "source": [
    "# ComfyUI"
   ]
  },
  {
   "cell_type": "code",
   "execution_count": null,
   "id": "26272665-16de-4042-a7a4-6b9205ff3309",
   "metadata": {
    "scrolled": true,
    "tags": []
   },
   "outputs": [],
   "source": [
    "# You must have the SDXL safetensors model inside /notebooks/ComfyUI/models/checkpoints\n",
    "\n",
    "Args=\"--listen --port 6006\"\n",
    "\n",
    "\n",
    "Download_SDXL_Model= True\n",
    "\n",
    "\n",
    "#--------------------\n",
    "sdcmf(MDLPTH, Download_SDXL_Model)\n",
    "!python /notebooks/ComfyUI/main.py $Args"
   ]
  },
  {
   "cell_type": "markdown",
   "id": "085e8fc5",
   "metadata": {},
   "source": [
    "# A1111"
   ]
  },
  {
   "cell_type": "code",
   "execution_count": null,
   "id": "a56905fe",
   "metadata": {},
   "outputs": [],
   "source": [
    "User = \"\"\n",
    "\n",
    "Password= \"\"\n",
    "\n",
    "# Add credentials to your Gradio interface (optional).\n",
    "\n",
    "\n",
    "Download_SDXL_Model= True\n",
    "\n",
    "\n",
    "#-----------------\n",
    "configf=test(MDLPTH, User, Password, Download_SDXL_Model)\n",
    "!python /notebooks/sd/stable-diffusion-webui/webui.py $configf"
   ]
  },
  {
   "cell_type": "markdown",
   "id": "093d64a7-3d4e-4197-8075-4ed11c7f0ae8",
   "metadata": {},
   "source": [
    "# Free up space"
   ]
  },
  {
   "cell_type": "code",
   "execution_count": null,
   "id": "370ba58a-d58d-4a80-9575-8c6e094e2626",
   "metadata": {},
   "outputs": [],
   "source": [
    "# Display a list of sessions from which you can remove any session you don't need anymore\n",
    "\n",
    "#-------------------------\n",
    "clean()"
   ]
  }
 ],
 "metadata": {
  "kernelspec": {
   "display_name": "Python 3 (ipykernel)",
   "language": "python",
   "name": "python3"
  },
  "language_info": {
   "codemirror_mode": {
    "name": "ipython",
    "version": 3
   },
   "file_extension": ".py",
   "mimetype": "text/x-python",
   "name": "python",
   "nbconvert_exporter": "python",
   "pygments_lexer": "ipython3",
   "version": "3.9.16"
  }
 },
 "nbformat": 4,
 "nbformat_minor": 5
}
